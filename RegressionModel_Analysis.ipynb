{
 "cells": [
  {
   "cell_type": "markdown",
   "metadata": {},
   "source": [
    "Analysis of a regression problem using algorithms like Linear regression, Decision Tree, Random Forest and Support vector regressor and comparing the performance of the models and analysing the concepts of bias, variance, overfitting and underfitting."
   ]
  },
  {
   "cell_type": "markdown",
   "metadata": {},
   "source": [
    "### Step 1: Importing the Relevant Libraries"
   ]
  },
  {
   "cell_type": "code",
   "execution_count": 76,
   "metadata": {},
   "outputs": [],
   "source": [
    "import matplotlib.pyplot as plt\n",
    "import pandas as pd\n",
    "import numpy as np\n",
    "import seaborn as sns\n",
    "\n",
    "from sklearn.preprocessing import LabelEncoder\n",
    "from sklearn.model_selection import train_test_split\n",
    "from sklearn import metrics\n",
    "from sklearn.linear_model import LinearRegression\n",
    "\n",
    "import warnings\n",
    "warnings.filterwarnings('always')\n",
    "warnings.filterwarnings('ignore')"
   ]
  },
  {
   "cell_type": "markdown",
   "metadata": {},
   "source": [
    "### Step 2: Data Inspection"
   ]
  },
  {
   "cell_type": "markdown",
   "metadata": {},
   "source": [
    "The data under analysis is a sales data for 1559 products across 10 stores in different cities. \n",
    "The data has 11 input variable and a target variable.\n",
    "\n",
    "First the data is analysed to check the null values and correct datatypes."
   ]
  },
  {
   "cell_type": "code",
   "execution_count": 77,
   "metadata": {},
   "outputs": [],
   "source": [
    "train = pd.read_csv(\"train_v9rqX0R.csv\")"
   ]
  },
  {
   "cell_type": "code",
   "execution_count": 78,
   "metadata": {},
   "outputs": [
    {
     "data": {
      "text/plain": [
       "(8523, 12)"
      ]
     },
     "execution_count": 78,
     "metadata": {},
     "output_type": "execute_result"
    }
   ],
   "source": [
    "train.shape"
   ]
  },
  {
   "cell_type": "markdown",
   "metadata": {},
   "source": [
    "* __We have 8523 rows and 12 columns in Train data"
   ]
  },
  {
   "cell_type": "code",
   "execution_count": 79,
   "metadata": {},
   "outputs": [
    {
     "name": "stdout",
     "output_type": "stream",
     "text": [
      "<class 'pandas.core.frame.DataFrame'>\n",
      "RangeIndex: 8523 entries, 0 to 8522\n",
      "Data columns (total 12 columns):\n",
      " #   Column                     Non-Null Count  Dtype  \n",
      "---  ------                     --------------  -----  \n",
      " 0   Item_Identifier            8523 non-null   object \n",
      " 1   Item_Weight                7060 non-null   float64\n",
      " 2   Item_Fat_Content           8523 non-null   object \n",
      " 3   Item_Visibility            8523 non-null   float64\n",
      " 4   Item_Type                  8523 non-null   object \n",
      " 5   Item_MRP                   8523 non-null   float64\n",
      " 6   Outlet_Identifier          8523 non-null   object \n",
      " 7   Outlet_Establishment_Year  8523 non-null   int64  \n",
      " 8   Outlet_Size                6113 non-null   object \n",
      " 9   Outlet_Location_Type       8523 non-null   object \n",
      " 10  Outlet_Type                8523 non-null   object \n",
      " 11  Item_Outlet_Sales          8523 non-null   float64\n",
      "dtypes: float64(4), int64(1), object(7)\n",
      "memory usage: 799.2+ KB\n"
     ]
    }
   ],
   "source": [
    "train.info()"
   ]
  },
  {
   "cell_type": "markdown",
   "metadata": {},
   "source": [
    "There are some null values in the variables \"Item_Weight\" and \"Outlet_Size\"."
   ]
  },
  {
   "cell_type": "code",
   "execution_count": 80,
   "metadata": {},
   "outputs": [
    {
     "name": "stdout",
     "output_type": "stream",
     "text": [
      "Categorical Features in Train Set: 7\n",
      "Numerical Features in Train Set: 5\n"
     ]
    }
   ],
   "source": [
    "#categorical features\n",
    "categorical = train.select_dtypes(include =[np.object])\n",
    "print(\"Categorical Features in Train Set:\",categorical.shape[1])\n",
    "\n",
    "#numerical features\n",
    "numerical= train.select_dtypes(include =[np.float64,np.int64])\n",
    "print(\"Numerical Features in Train Set:\",numerical.shape[1])"
   ]
  },
  {
   "cell_type": "markdown",
   "metadata": {},
   "source": [
    "### Step 3: Data Cleaning"
   ]
  },
  {
   "cell_type": "markdown",
   "metadata": {},
   "source": [
    "Why missing values treatment is required?\n",
    "Missing data in the training data set can reduce the power / fit of a model or can lead to a biased model because we have not analysed the behavior and relationship with other variables correctly. It can lead to wrong prediction."
   ]
  },
  {
   "cell_type": "code",
   "execution_count": 81,
   "metadata": {},
   "outputs": [
    {
     "data": {
      "text/plain": [
       "Item_Identifier                 0\n",
       "Item_Weight                  1463\n",
       "Item_Fat_Content                0\n",
       "Item_Visibility                 0\n",
       "Item_Type                       0\n",
       "Item_MRP                        0\n",
       "Outlet_Identifier               0\n",
       "Outlet_Establishment_Year       0\n",
       "Outlet_Size                  2410\n",
       "Outlet_Location_Type            0\n",
       "Outlet_Type                     0\n",
       "Item_Outlet_Sales               0\n",
       "dtype: int64"
      ]
     },
     "execution_count": 81,
     "metadata": {},
     "output_type": "execute_result"
    }
   ],
   "source": [
    "train.isnull().sum()"
   ]
  },
  {
   "cell_type": "markdown",
   "metadata": {},
   "source": [
    "* Item_Weight and Outlet_Size have some missing values in the data"
   ]
  },
  {
   "cell_type": "code",
   "execution_count": 82,
   "metadata": {},
   "outputs": [
    {
     "data": {
      "text/plain": [
       "Item_Identifier               0.000000\n",
       "Item_Weight                  17.165317\n",
       "Item_Fat_Content              0.000000\n",
       "Item_Visibility               0.000000\n",
       "Item_Type                     0.000000\n",
       "Item_MRP                      0.000000\n",
       "Outlet_Identifier             0.000000\n",
       "Outlet_Establishment_Year     0.000000\n",
       "Outlet_Size                  28.276428\n",
       "Outlet_Location_Type          0.000000\n",
       "Outlet_Type                   0.000000\n",
       "Item_Outlet_Sales             0.000000\n",
       "dtype: float64"
      ]
     },
     "execution_count": 82,
     "metadata": {},
     "output_type": "execute_result"
    }
   ],
   "source": [
    "#ratio of null values\n",
    "train.isnull().sum()/train.shape[0] *100"
   ]
  },
  {
   "cell_type": "markdown",
   "metadata": {},
   "source": [
    "* __We have 17% and 28% of missing values in Item weight and Outlet_Size columns respectively.__"
   ]
  },
  {
   "cell_type": "markdown",
   "metadata": {},
   "source": [
    "__3.1 Item Weight__"
   ]
  },
  {
   "cell_type": "code",
   "execution_count": 83,
   "metadata": {},
   "outputs": [
    {
     "data": {
      "text/plain": [
       "<AxesSubplot:xlabel='Item_Weight'>"
      ]
     },
     "execution_count": 83,
     "metadata": {},
     "output_type": "execute_result"
    },
    {
     "data": {
      "image/png": "[encoded data removed]",
      "text/plain": [
       "<Figure size 576x360 with 1 Axes>"
      ]
     },
     "metadata": {
      "needs_background": "light"
     },
     "output_type": "display_data"
    }
   ],
   "source": [
    "plt.figure(figsize=(8,5))\n",
    "sns.boxplot('Item_Weight',data=train)"
   ]
  },
  {
   "cell_type": "markdown",
   "metadata": {},
   "source": [
    "__The Box Plots above clearly show no \"Outliers\" and hence we can impute the missing values with \"Mean\"__"
   ]
  },
  {
   "cell_type": "code",
   "execution_count": 84,
   "metadata": {},
   "outputs": [],
   "source": [
    "# Imputing with Mean\n",
    "train['Item_Weight']= train['Item_Weight'].fillna(train['Item_Weight'].mean())"
   ]
  },
  {
   "cell_type": "code",
   "execution_count": 85,
   "metadata": {},
   "outputs": [
    {
     "data": {
      "text/plain": [
       "0"
      ]
     },
     "execution_count": 85,
     "metadata": {},
     "output_type": "execute_result"
    }
   ],
   "source": [
    "train['Item_Weight'].isnull().sum()"
   ]
  },
  {
   "cell_type": "markdown",
   "metadata": {},
   "source": [
    "We have succesfully imputed the missing values from the column Item_Weight"
   ]
  },
  {
   "cell_type": "markdown",
   "metadata": {},
   "source": [
    "__3.2 : Outlet Size__"
   ]
  },
  {
   "cell_type": "code",
   "execution_count": 86,
   "metadata": {},
   "outputs": [
    {
     "data": {
      "text/plain": [
       "2410"
      ]
     },
     "execution_count": 86,
     "metadata": {},
     "output_type": "execute_result"
    }
   ],
   "source": [
    "train['Outlet_Size'].isnull().sum()"
   ]
  },
  {
   "cell_type": "code",
   "execution_count": 87,
   "metadata": {},
   "outputs": [
    {
     "name": "stdout",
     "output_type": "stream",
     "text": [
      "Medium    2793\n",
      "Small     2388\n",
      "High       932\n",
      "Name: Outlet_Size, dtype: int64\n"
     ]
    }
   ],
   "source": [
    "print(train['Outlet_Size'].value_counts())"
   ]
  },
  {
   "cell_type": "markdown",
   "metadata": {},
   "source": [
    "As the missing values in Outlet_size is distributed in two Outlet_type categories \" Grocery store and Supermarket type 1\" \n",
    "So the missing values in outlet size under Grocery store and Supermarket Type1 are imputed as Small and Medium respectively."
   ]
  },
  {
   "cell_type": "code",
   "execution_count": 88,
   "metadata": {},
   "outputs": [
    {
     "data": {
      "text/html": [
       "<div>\n",
       "<style scoped>\n",
       "    .dataframe tbody tr th:only-of-type {\n",
       "        vertical-align: middle;\n",
       "    }\n",
       "\n",
       "    .dataframe tbody tr th {\n",
       "        vertical-align: top;\n",
       "    }\n",
       "\n",
       "    .dataframe thead th {\n",
       "        text-align: right;\n",
       "    }\n",
       "</style>\n",
       "<table border=\"1\" class=\"dataframe\">\n",
       "  <thead>\n",
       "    <tr style=\"text-align: right;\">\n",
       "      <th>Outlet_Type</th>\n",
       "      <th>Grocery Store</th>\n",
       "      <th>Supermarket Type1</th>\n",
       "      <th>Supermarket Type2</th>\n",
       "      <th>Supermarket Type3</th>\n",
       "      <th>All</th>\n",
       "    </tr>\n",
       "    <tr>\n",
       "      <th>Outlet_Size</th>\n",
       "      <th></th>\n",
       "      <th></th>\n",
       "      <th></th>\n",
       "      <th></th>\n",
       "      <th></th>\n",
       "    </tr>\n",
       "  </thead>\n",
       "  <tbody>\n",
       "    <tr>\n",
       "      <th>High</th>\n",
       "      <td>0</td>\n",
       "      <td>932</td>\n",
       "      <td>0</td>\n",
       "      <td>0</td>\n",
       "      <td>932</td>\n",
       "    </tr>\n",
       "    <tr>\n",
       "      <th>Medium</th>\n",
       "      <td>0</td>\n",
       "      <td>930</td>\n",
       "      <td>928</td>\n",
       "      <td>935</td>\n",
       "      <td>2793</td>\n",
       "    </tr>\n",
       "    <tr>\n",
       "      <th>Small</th>\n",
       "      <td>528</td>\n",
       "      <td>1860</td>\n",
       "      <td>0</td>\n",
       "      <td>0</td>\n",
       "      <td>2388</td>\n",
       "    </tr>\n",
       "    <tr>\n",
       "      <th>All</th>\n",
       "      <td>1083</td>\n",
       "      <td>5577</td>\n",
       "      <td>928</td>\n",
       "      <td>935</td>\n",
       "      <td>8523</td>\n",
       "    </tr>\n",
       "  </tbody>\n",
       "</table>\n",
       "</div>"
      ],
      "text/plain": [
       "Outlet_Type  Grocery Store  Supermarket Type1  Supermarket Type2  \\\n",
       "Outlet_Size                                                        \n",
       "High                     0                932                  0   \n",
       "Medium                   0                930                928   \n",
       "Small                  528               1860                  0   \n",
       "All                   1083               5577                928   \n",
       "\n",
       "Outlet_Type  Supermarket Type3   All  \n",
       "Outlet_Size                           \n",
       "High                         0   932  \n",
       "Medium                     935  2793  \n",
       "Small                        0  2388  \n",
       "All                        935  8523  "
      ]
     },
     "execution_count": 88,
     "metadata": {},
     "output_type": "execute_result"
    }
   ],
   "source": [
    "pd.crosstab(train.Outlet_Size,train.Outlet_Type,dropna= False,margins=True)"
   ]
  },
  {
   "cell_type": "code",
   "execution_count": 89,
   "metadata": {},
   "outputs": [
    {
     "data": {
      "text/plain": [
       "0       False\n",
       "1       False\n",
       "2       False\n",
       "3        True\n",
       "4       False\n",
       "        ...  \n",
       "8518    False\n",
       "8519    False\n",
       "8520    False\n",
       "8521    False\n",
       "8522    False\n",
       "Name: Outlet_Type, Length: 8523, dtype: bool"
      ]
     },
     "execution_count": 89,
     "metadata": {},
     "output_type": "execute_result"
    }
   ],
   "source": [
    "b=train[\"Outlet_Type\"] == \"Grocery Store\"\n",
    "b"
   ]
  },
  {
   "cell_type": "code",
   "execution_count": 90,
   "metadata": {},
   "outputs": [],
   "source": [
    "train.Outlet_Size[b==True] = train.Outlet_Size[b==True].fillna(\"Small\")"
   ]
  },
  {
   "cell_type": "code",
   "execution_count": 91,
   "metadata": {},
   "outputs": [
    {
     "data": {
      "text/html": [
       "<div>\n",
       "<style scoped>\n",
       "    .dataframe tbody tr th:only-of-type {\n",
       "        vertical-align: middle;\n",
       "    }\n",
       "\n",
       "    .dataframe tbody tr th {\n",
       "        vertical-align: top;\n",
       "    }\n",
       "\n",
       "    .dataframe thead th {\n",
       "        text-align: right;\n",
       "    }\n",
       "</style>\n",
       "<table border=\"1\" class=\"dataframe\">\n",
       "  <thead>\n",
       "    <tr style=\"text-align: right;\">\n",
       "      <th>Outlet_Type</th>\n",
       "      <th>Grocery Store</th>\n",
       "      <th>Supermarket Type1</th>\n",
       "      <th>Supermarket Type2</th>\n",
       "      <th>Supermarket Type3</th>\n",
       "      <th>All</th>\n",
       "    </tr>\n",
       "    <tr>\n",
       "      <th>Outlet_Size</th>\n",
       "      <th></th>\n",
       "      <th></th>\n",
       "      <th></th>\n",
       "      <th></th>\n",
       "      <th></th>\n",
       "    </tr>\n",
       "  </thead>\n",
       "  <tbody>\n",
       "    <tr>\n",
       "      <th>High</th>\n",
       "      <td>0</td>\n",
       "      <td>932</td>\n",
       "      <td>0</td>\n",
       "      <td>0</td>\n",
       "      <td>932</td>\n",
       "    </tr>\n",
       "    <tr>\n",
       "      <th>Medium</th>\n",
       "      <td>0</td>\n",
       "      <td>930</td>\n",
       "      <td>928</td>\n",
       "      <td>935</td>\n",
       "      <td>2793</td>\n",
       "    </tr>\n",
       "    <tr>\n",
       "      <th>Small</th>\n",
       "      <td>1083</td>\n",
       "      <td>1860</td>\n",
       "      <td>0</td>\n",
       "      <td>0</td>\n",
       "      <td>2943</td>\n",
       "    </tr>\n",
       "    <tr>\n",
       "      <th>All</th>\n",
       "      <td>1083</td>\n",
       "      <td>5577</td>\n",
       "      <td>928</td>\n",
       "      <td>935</td>\n",
       "      <td>8523</td>\n",
       "    </tr>\n",
       "  </tbody>\n",
       "</table>\n",
       "</div>"
      ],
      "text/plain": [
       "Outlet_Type  Grocery Store  Supermarket Type1  Supermarket Type2  \\\n",
       "Outlet_Size                                                        \n",
       "High                     0                932                  0   \n",
       "Medium                   0                930                928   \n",
       "Small                 1083               1860                  0   \n",
       "All                   1083               5577                928   \n",
       "\n",
       "Outlet_Type  Supermarket Type3   All  \n",
       "Outlet_Size                           \n",
       "High                         0   932  \n",
       "Medium                     935  2793  \n",
       "Small                        0  2943  \n",
       "All                        935  8523  "
      ]
     },
     "execution_count": 91,
     "metadata": {},
     "output_type": "execute_result"
    }
   ],
   "source": [
    "pd.crosstab(train.Outlet_Size,train.Outlet_Type,dropna= False,margins=True)"
   ]
  },
  {
   "cell_type": "code",
   "execution_count": 92,
   "metadata": {},
   "outputs": [],
   "source": [
    "train[\"Outlet_Size\"].fillna(\"Medium\", axis = 0 , inplace=True)"
   ]
  },
  {
   "cell_type": "code",
   "execution_count": 93,
   "metadata": {},
   "outputs": [
    {
     "data": {
      "text/html": [
       "<div>\n",
       "<style scoped>\n",
       "    .dataframe tbody tr th:only-of-type {\n",
       "        vertical-align: middle;\n",
       "    }\n",
       "\n",
       "    .dataframe tbody tr th {\n",
       "        vertical-align: top;\n",
       "    }\n",
       "\n",
       "    .dataframe thead th {\n",
       "        text-align: right;\n",
       "    }\n",
       "</style>\n",
       "<table border=\"1\" class=\"dataframe\">\n",
       "  <thead>\n",
       "    <tr style=\"text-align: right;\">\n",
       "      <th>Outlet_Type</th>\n",
       "      <th>Grocery Store</th>\n",
       "      <th>Supermarket Type1</th>\n",
       "      <th>Supermarket Type2</th>\n",
       "      <th>Supermarket Type3</th>\n",
       "      <th>All</th>\n",
       "    </tr>\n",
       "    <tr>\n",
       "      <th>Outlet_Size</th>\n",
       "      <th></th>\n",
       "      <th></th>\n",
       "      <th></th>\n",
       "      <th></th>\n",
       "      <th></th>\n",
       "    </tr>\n",
       "  </thead>\n",
       "  <tbody>\n",
       "    <tr>\n",
       "      <th>High</th>\n",
       "      <td>0</td>\n",
       "      <td>932</td>\n",
       "      <td>0</td>\n",
       "      <td>0</td>\n",
       "      <td>932</td>\n",
       "    </tr>\n",
       "    <tr>\n",
       "      <th>Medium</th>\n",
       "      <td>0</td>\n",
       "      <td>2785</td>\n",
       "      <td>928</td>\n",
       "      <td>935</td>\n",
       "      <td>4648</td>\n",
       "    </tr>\n",
       "    <tr>\n",
       "      <th>Small</th>\n",
       "      <td>1083</td>\n",
       "      <td>1860</td>\n",
       "      <td>0</td>\n",
       "      <td>0</td>\n",
       "      <td>2943</td>\n",
       "    </tr>\n",
       "    <tr>\n",
       "      <th>All</th>\n",
       "      <td>1083</td>\n",
       "      <td>5577</td>\n",
       "      <td>928</td>\n",
       "      <td>935</td>\n",
       "      <td>8523</td>\n",
       "    </tr>\n",
       "  </tbody>\n",
       "</table>\n",
       "</div>"
      ],
      "text/plain": [
       "Outlet_Type  Grocery Store  Supermarket Type1  Supermarket Type2  \\\n",
       "Outlet_Size                                                        \n",
       "High                     0                932                  0   \n",
       "Medium                   0               2785                928   \n",
       "Small                 1083               1860                  0   \n",
       "All                   1083               5577                928   \n",
       "\n",
       "Outlet_Type  Supermarket Type3   All  \n",
       "Outlet_Size                           \n",
       "High                         0   932  \n",
       "Medium                     935  4648  \n",
       "Small                        0  2943  \n",
       "All                        935  8523  "
      ]
     },
     "execution_count": 93,
     "metadata": {},
     "output_type": "execute_result"
    }
   ],
   "source": [
    "pd.crosstab(train.Outlet_Size,train.Outlet_Type,dropna= False,margins=True)"
   ]
  },
  {
   "cell_type": "code",
   "execution_count": 94,
   "metadata": {},
   "outputs": [
    {
     "data": {
      "text/plain": [
       "0"
      ]
     },
     "execution_count": 94,
     "metadata": {},
     "output_type": "execute_result"
    }
   ],
   "source": [
    "train['Outlet_Size'].isnull().sum()"
   ]
  },
  {
   "cell_type": "markdown",
   "metadata": {},
   "source": [
    "__We have succesfully imputed the missing values from the column Outlet_Size.__"
   ]
  },
  {
   "cell_type": "code",
   "execution_count": 95,
   "metadata": {},
   "outputs": [
    {
     "data": {
      "text/plain": [
       "Index(['Item_Identifier', 'Item_Weight', 'Item_Fat_Content', 'Item_Visibility',\n",
       "       'Item_Type', 'Item_MRP', 'Outlet_Identifier',\n",
       "       'Outlet_Establishment_Year', 'Outlet_Size', 'Outlet_Location_Type',\n",
       "       'Outlet_Type', 'Item_Outlet_Sales'],\n",
       "      dtype='object')"
      ]
     },
     "execution_count": 95,
     "metadata": {},
     "output_type": "execute_result"
    }
   ],
   "source": [
    "train.columns"
   ]
  },
  {
   "cell_type": "markdown",
   "metadata": {},
   "source": [
    "To identify if there are any special or invalid values in the data, each variable is verified for unique values."
   ]
  },
  {
   "cell_type": "code",
   "execution_count": 96,
   "metadata": {},
   "outputs": [
    {
     "name": "stdout",
     "output_type": "stream",
     "text": [
      "['FDA15' 'DRC01' 'FDN15' ... 'NCF55' 'NCW30' 'NCW05'] [ 9.3         5.92       17.5        19.2         8.93       10.395\n",
      " 13.65       12.85764518 16.2        11.8        18.5        15.1\n",
      " 17.6        16.35        9.         13.35       18.85       14.6\n",
      " 13.85       13.          7.645      11.65        5.925      19.25\n",
      " 18.6        18.7        17.85       10.          8.85        9.8\n",
      " 13.6        21.35       12.15        6.42       19.6        15.85\n",
      "  7.39       10.195       9.895      10.895       7.905       9.195\n",
      "  8.365       7.97       17.7        19.35        8.645      15.6\n",
      " 18.25        7.855       7.825       8.39       12.85       19.\n",
      "  5.905       7.76       16.75       15.5         6.055       6.305\n",
      " 20.85       20.75        8.895      19.7         8.75       13.3\n",
      "  8.31       19.75       17.1        10.5         6.635      14.15\n",
      "  8.89        9.1         7.5        16.85        7.485      11.6\n",
      " 12.65       20.25        8.6        12.6         8.88       20.5\n",
      " 13.5         7.235       6.92        8.02       12.8        16.6\n",
      " 14.         16.         21.25        7.365      18.35        5.465\n",
      "  7.27        6.155      19.5        15.2        14.5        13.1\n",
      " 12.3        11.1        11.3         5.75       11.35        6.525\n",
      " 10.3         5.78       11.85       18.75        5.26       16.1\n",
      "  9.5        13.8        14.65        6.67        6.11       17.2\n",
      "  6.32        4.88        5.425      14.1         7.55       17.25\n",
      " 12.         10.1         7.785      13.15        8.5         7.63\n",
      "  9.285       7.975      15.7         8.985      20.35        6.59\n",
      " 19.85        6.26       18.2         8.695       7.075       8.195\n",
      "  7.09        6.095       6.15        9.395      15.75        7.475\n",
      "  6.445      19.1        15.         16.7         7.07        6.48\n",
      "  9.695      11.15        9.6        20.7         5.5         7.895\n",
      " 17.35        7.285       6.17       11.395       7.71       12.1\n",
      " 14.35        8.1         8.05       16.5         6.785       7.575\n",
      "  7.47       15.25        7.605      18.         21.2         8.97\n",
      " 10.6         6.865      10.8        15.15       18.1         6.655\n",
      " 20.1         7.935      15.35       12.35        6.85        8.775\n",
      " 14.85        7.84       12.5         8.325       5.765       5.985\n",
      " 14.3         6.135       8.51        6.65        5.695       6.36\n",
      "  8.3         7.56        8.71        6.695      14.8        17.75\n",
      "  8.575       6.57        8.68        5.63        9.13        6.715\n",
      "  5.82        7.93        5.          7.445       6.675       8.18\n",
      "  6.98        7.435      20.6         8.355       8.975      20.2\n",
      "  5.655       5.175      20.          7.67        4.785       8.395\n",
      "  6.175       8.21        5.845       7.17        8.785       7.89\n",
      "  5.32        5.03        8.945       6.28        7.565       9.31\n",
      "  7.02        5.46        6.13        6.55       17.         16.25\n",
      "  5.15        7.865       6.575       7.06        5.785       7.42\n",
      "  6.235       6.75        5.86        5.035       6.38        5.675\n",
      " 11.5        21.         21.1         4.61        7.          6.405\n",
      " 14.7         7.68        8.185       8.655      10.85        8.42\n",
      "  7.85        4.59        7.51       11.          6.71       14.75\n",
      "  7.59        5.155       6.365       8.235       5.365       8.485\n",
      "  7.535       4.92        6.385       8.26        7.945       8.63\n",
      "  9.21        6.965       8.905       7.21        7.3         9.27\n",
      " 10.695       6.215       7.405       7.72        6.115       6.035\n",
      "  6.78       15.3         7.105       7.52        4.805       6.425\n",
      "  7.6         6.61        7.325       8.115       5.94        5.635\n",
      "  7.35        5.825       6.63        7.05        8.315       6.8\n",
      "  7.035       8.96        5.51        8.43        8.27        7.81\n",
      "  6.885       5.44        5.405       4.635      10.65        5.735\n",
      "  6.465       8.84        7.75        6.765       9.065       7.655\n",
      "  4.615       8.76        7.1         6.195       5.615       8.52\n",
      "  7.26        6.825       5.325       5.59        5.88        5.19\n",
      "  6.985       9.06        6.69        8.615       7.275       6.96\n",
      "  9.17        8.155       5.73        8.935       8.92        7.36\n",
      "  7.64        5.34        7.22        6.615       6.76        6.3\n",
      "  5.98        8.06        6.44        5.095       8.8         6.325\n",
      "  7.31        9.035       9.105       7.145       4.905       4.555\n",
      "  8.          7.315       6.89        5.945       6.86        6.935\n",
      "  6.03        7.725       5.885       7.155       6.46        5.48\n",
      "  8.01        5.8         5.305       6.905       7.96        5.11\n",
      "  8.77        7.685       8.275       8.38        8.35        9.42\n",
      "  6.775       6.4         6.895       5.485       6.52        8.67\n",
      "  5.21        5.4       ] ['Low Fat' 'Regular' 'low fat' 'LF' 'reg'] [0.0160473  0.01927822 0.01676007 ... 0.03518627 0.14522065 0.04487828] ['Dairy' 'Soft Drinks' 'Meat' 'Fruits and Vegetables' 'Household'\n",
      " 'Baking Goods' 'Snack Foods' 'Frozen Foods' 'Breakfast'\n",
      " 'Health and Hygiene' 'Hard Drinks' 'Canned' 'Breads' 'Starchy Foods'\n",
      " 'Others' 'Seafood'] [249.8092  48.2692 141.618  ...  57.5904 214.5218  75.467 ] ['OUT049' 'OUT018' 'OUT010' 'OUT013' 'OUT027' 'OUT045' 'OUT017' 'OUT046'\n",
      " 'OUT035' 'OUT019'] [1999 2009 1998 1987 1985 2002 2007 1997 2004] ['Medium' 'Small' 'High'] ['Tier 1' 'Tier 3' 'Tier 2'] ['Supermarket Type1' 'Supermarket Type2' 'Grocery Store'\n",
      " 'Supermarket Type3'] [3735.138   443.4228 2097.27   ... 7182.6504 3608.636  2778.3834]\n"
     ]
    }
   ],
   "source": [
    "print(train['Item_Identifier'].unique(), train['Item_Weight'].unique(), train['Item_Fat_Content'].unique(), \n",
    "      train['Item_Visibility'].unique(),train['Item_Type'].unique(), train['Item_MRP'].unique(), \n",
    "      train['Outlet_Identifier'].unique(),train['Outlet_Establishment_Year'].unique(), train['Outlet_Size'].unique(),\n",
    "      train['Outlet_Location_Type'].unique(),train['Outlet_Type'].unique(), train['Item_Outlet_Sales'].unique())"
   ]
  },
  {
   "cell_type": "code",
   "execution_count": 97,
   "metadata": {},
   "outputs": [
    {
     "data": {
      "text/plain": [
       "Low Fat    5089\n",
       "Regular    2889\n",
       "LF          316\n",
       "reg         117\n",
       "low fat     112\n",
       "Name: Item_Fat_Content, dtype: int64"
      ]
     },
     "execution_count": 97,
     "metadata": {},
     "output_type": "execute_result"
    }
   ],
   "source": [
    "train['Item_Fat_Content'].value_counts()"
   ]
  },
  {
   "cell_type": "markdown",
   "metadata": {},
   "source": [
    "__We see there are some irregularities in the column and it is needed to fix them.__"
   ]
  },
  {
   "cell_type": "code",
   "execution_count": 98,
   "metadata": {},
   "outputs": [],
   "source": [
    "train['Item_Fat_Content'].replace(['low fat','LF','reg'],['Low Fat','Low Fat','Regular'],inplace = True)"
   ]
  },
  {
   "cell_type": "code",
   "execution_count": 99,
   "metadata": {},
   "outputs": [],
   "source": [
    "train['Item_Fat_Content']= train['Item_Fat_Content'].astype(str)"
   ]
  },
  {
   "cell_type": "markdown",
   "metadata": {},
   "source": [
    "### Step 4: Data transformation"
   ]
  },
  {
   "cell_type": "code",
   "execution_count": 100,
   "metadata": {},
   "outputs": [
    {
     "data": {
      "text/html": [
       "<div>\n",
       "<style scoped>\n",
       "    .dataframe tbody tr th:only-of-type {\n",
       "        vertical-align: middle;\n",
       "    }\n",
       "\n",
       "    .dataframe tbody tr th {\n",
       "        vertical-align: top;\n",
       "    }\n",
       "\n",
       "    .dataframe thead th {\n",
       "        text-align: right;\n",
       "    }\n",
       "</style>\n",
       "<table border=\"1\" class=\"dataframe\">\n",
       "  <thead>\n",
       "    <tr style=\"text-align: right;\">\n",
       "      <th></th>\n",
       "      <th>Item_Identifier</th>\n",
       "      <th>Item_Weight</th>\n",
       "      <th>Item_Fat_Content</th>\n",
       "      <th>Item_Visibility</th>\n",
       "      <th>Item_Type</th>\n",
       "      <th>Item_MRP</th>\n",
       "      <th>Outlet_Identifier</th>\n",
       "      <th>Outlet_Establishment_Year</th>\n",
       "      <th>Outlet_Size</th>\n",
       "      <th>Outlet_Location_Type</th>\n",
       "      <th>Outlet_Type</th>\n",
       "      <th>Item_Outlet_Sales</th>\n",
       "    </tr>\n",
       "  </thead>\n",
       "  <tbody>\n",
       "    <tr>\n",
       "      <th>0</th>\n",
       "      <td>FDA15</td>\n",
       "      <td>9.30</td>\n",
       "      <td>Low Fat</td>\n",
       "      <td>0.016047</td>\n",
       "      <td>Dairy</td>\n",
       "      <td>249.8092</td>\n",
       "      <td>OUT049</td>\n",
       "      <td>1999</td>\n",
       "      <td>Medium</td>\n",
       "      <td>Tier 1</td>\n",
       "      <td>Supermarket Type1</td>\n",
       "      <td>3735.1380</td>\n",
       "    </tr>\n",
       "    <tr>\n",
       "      <th>1</th>\n",
       "      <td>DRC01</td>\n",
       "      <td>5.92</td>\n",
       "      <td>Regular</td>\n",
       "      <td>0.019278</td>\n",
       "      <td>Soft Drinks</td>\n",
       "      <td>48.2692</td>\n",
       "      <td>OUT018</td>\n",
       "      <td>2009</td>\n",
       "      <td>Medium</td>\n",
       "      <td>Tier 3</td>\n",
       "      <td>Supermarket Type2</td>\n",
       "      <td>443.4228</td>\n",
       "    </tr>\n",
       "    <tr>\n",
       "      <th>2</th>\n",
       "      <td>FDN15</td>\n",
       "      <td>17.50</td>\n",
       "      <td>Low Fat</td>\n",
       "      <td>0.016760</td>\n",
       "      <td>Meat</td>\n",
       "      <td>141.6180</td>\n",
       "      <td>OUT049</td>\n",
       "      <td>1999</td>\n",
       "      <td>Medium</td>\n",
       "      <td>Tier 1</td>\n",
       "      <td>Supermarket Type1</td>\n",
       "      <td>2097.2700</td>\n",
       "    </tr>\n",
       "    <tr>\n",
       "      <th>3</th>\n",
       "      <td>FDX07</td>\n",
       "      <td>19.20</td>\n",
       "      <td>Regular</td>\n",
       "      <td>0.000000</td>\n",
       "      <td>Fruits and Vegetables</td>\n",
       "      <td>182.0950</td>\n",
       "      <td>OUT010</td>\n",
       "      <td>1998</td>\n",
       "      <td>Small</td>\n",
       "      <td>Tier 3</td>\n",
       "      <td>Grocery Store</td>\n",
       "      <td>732.3800</td>\n",
       "    </tr>\n",
       "    <tr>\n",
       "      <th>4</th>\n",
       "      <td>NCD19</td>\n",
       "      <td>8.93</td>\n",
       "      <td>Low Fat</td>\n",
       "      <td>0.000000</td>\n",
       "      <td>Household</td>\n",
       "      <td>53.8614</td>\n",
       "      <td>OUT013</td>\n",
       "      <td>1987</td>\n",
       "      <td>High</td>\n",
       "      <td>Tier 3</td>\n",
       "      <td>Supermarket Type1</td>\n",
       "      <td>994.7052</td>\n",
       "    </tr>\n",
       "  </tbody>\n",
       "</table>\n",
       "</div>"
      ],
      "text/plain": [
       "  Item_Identifier  Item_Weight Item_Fat_Content  Item_Visibility  \\\n",
       "0           FDA15         9.30          Low Fat         0.016047   \n",
       "1           DRC01         5.92          Regular         0.019278   \n",
       "2           FDN15        17.50          Low Fat         0.016760   \n",
       "3           FDX07        19.20          Regular         0.000000   \n",
       "4           NCD19         8.93          Low Fat         0.000000   \n",
       "\n",
       "               Item_Type  Item_MRP Outlet_Identifier  \\\n",
       "0                  Dairy  249.8092            OUT049   \n",
       "1            Soft Drinks   48.2692            OUT018   \n",
       "2                   Meat  141.6180            OUT049   \n",
       "3  Fruits and Vegetables  182.0950            OUT010   \n",
       "4              Household   53.8614            OUT013   \n",
       "\n",
       "   Outlet_Establishment_Year Outlet_Size Outlet_Location_Type  \\\n",
       "0                       1999      Medium               Tier 1   \n",
       "1                       2009      Medium               Tier 3   \n",
       "2                       1999      Medium               Tier 1   \n",
       "3                       1998       Small               Tier 3   \n",
       "4                       1987        High               Tier 3   \n",
       "\n",
       "         Outlet_Type  Item_Outlet_Sales  \n",
       "0  Supermarket Type1          3735.1380  \n",
       "1  Supermarket Type2           443.4228  \n",
       "2  Supermarket Type1          2097.2700  \n",
       "3      Grocery Store           732.3800  \n",
       "4  Supermarket Type1           994.7052  "
      ]
     },
     "execution_count": 100,
     "metadata": {},
     "output_type": "execute_result"
    }
   ],
   "source": [
    "train.head()"
   ]
  },
  {
   "cell_type": "code",
   "execution_count": 101,
   "metadata": {},
   "outputs": [],
   "source": [
    "# Labelencoding\n",
    "le = LabelEncoder()\n",
    "var_mod = train.select_dtypes(include='object').columns\n",
    "for i in var_mod:\n",
    "    train[i] = le.fit_transform(train[i])"
   ]
  },
  {
   "cell_type": "markdown",
   "metadata": {},
   "source": [
    "* __Encoding the required columns from training dataset__"
   ]
  },
  {
   "cell_type": "code",
   "execution_count": 102,
   "metadata": {},
   "outputs": [
    {
     "data": {
      "text/html": [
       "<div>\n",
       "<style scoped>\n",
       "    .dataframe tbody tr th:only-of-type {\n",
       "        vertical-align: middle;\n",
       "    }\n",
       "\n",
       "    .dataframe tbody tr th {\n",
       "        vertical-align: top;\n",
       "    }\n",
       "\n",
       "    .dataframe thead th {\n",
       "        text-align: right;\n",
       "    }\n",
       "</style>\n",
       "<table border=\"1\" class=\"dataframe\">\n",
       "  <thead>\n",
       "    <tr style=\"text-align: right;\">\n",
       "      <th></th>\n",
       "      <th>Item_Identifier</th>\n",
       "      <th>Item_Weight</th>\n",
       "      <th>Item_Fat_Content</th>\n",
       "      <th>Item_Visibility</th>\n",
       "      <th>Item_Type</th>\n",
       "      <th>Item_MRP</th>\n",
       "      <th>Outlet_Identifier</th>\n",
       "      <th>Outlet_Establishment_Year</th>\n",
       "      <th>Outlet_Size</th>\n",
       "      <th>Outlet_Location_Type</th>\n",
       "      <th>Outlet_Type</th>\n",
       "      <th>Item_Outlet_Sales</th>\n",
       "    </tr>\n",
       "  </thead>\n",
       "  <tbody>\n",
       "    <tr>\n",
       "      <th>0</th>\n",
       "      <td>156</td>\n",
       "      <td>9.30</td>\n",
       "      <td>0</td>\n",
       "      <td>0.016047</td>\n",
       "      <td>4</td>\n",
       "      <td>249.8092</td>\n",
       "      <td>9</td>\n",
       "      <td>1999</td>\n",
       "      <td>1</td>\n",
       "      <td>0</td>\n",
       "      <td>1</td>\n",
       "      <td>3735.1380</td>\n",
       "    </tr>\n",
       "    <tr>\n",
       "      <th>1</th>\n",
       "      <td>8</td>\n",
       "      <td>5.92</td>\n",
       "      <td>1</td>\n",
       "      <td>0.019278</td>\n",
       "      <td>14</td>\n",
       "      <td>48.2692</td>\n",
       "      <td>3</td>\n",
       "      <td>2009</td>\n",
       "      <td>1</td>\n",
       "      <td>2</td>\n",
       "      <td>2</td>\n",
       "      <td>443.4228</td>\n",
       "    </tr>\n",
       "    <tr>\n",
       "      <th>2</th>\n",
       "      <td>662</td>\n",
       "      <td>17.50</td>\n",
       "      <td>0</td>\n",
       "      <td>0.016760</td>\n",
       "      <td>10</td>\n",
       "      <td>141.6180</td>\n",
       "      <td>9</td>\n",
       "      <td>1999</td>\n",
       "      <td>1</td>\n",
       "      <td>0</td>\n",
       "      <td>1</td>\n",
       "      <td>2097.2700</td>\n",
       "    </tr>\n",
       "    <tr>\n",
       "      <th>3</th>\n",
       "      <td>1121</td>\n",
       "      <td>19.20</td>\n",
       "      <td>1</td>\n",
       "      <td>0.000000</td>\n",
       "      <td>6</td>\n",
       "      <td>182.0950</td>\n",
       "      <td>0</td>\n",
       "      <td>1998</td>\n",
       "      <td>2</td>\n",
       "      <td>2</td>\n",
       "      <td>0</td>\n",
       "      <td>732.3800</td>\n",
       "    </tr>\n",
       "    <tr>\n",
       "      <th>4</th>\n",
       "      <td>1297</td>\n",
       "      <td>8.93</td>\n",
       "      <td>0</td>\n",
       "      <td>0.000000</td>\n",
       "      <td>9</td>\n",
       "      <td>53.8614</td>\n",
       "      <td>1</td>\n",
       "      <td>1987</td>\n",
       "      <td>0</td>\n",
       "      <td>2</td>\n",
       "      <td>1</td>\n",
       "      <td>994.7052</td>\n",
       "    </tr>\n",
       "  </tbody>\n",
       "</table>\n",
       "</div>"
      ],
      "text/plain": [
       "   Item_Identifier  Item_Weight  Item_Fat_Content  Item_Visibility  Item_Type  \\\n",
       "0              156         9.30                 0         0.016047          4   \n",
       "1                8         5.92                 1         0.019278         14   \n",
       "2              662        17.50                 0         0.016760         10   \n",
       "3             1121        19.20                 1         0.000000          6   \n",
       "4             1297         8.93                 0         0.000000          9   \n",
       "\n",
       "   Item_MRP  Outlet_Identifier  Outlet_Establishment_Year  Outlet_Size  \\\n",
       "0  249.8092                  9                       1999            1   \n",
       "1   48.2692                  3                       2009            1   \n",
       "2  141.6180                  9                       1999            1   \n",
       "3  182.0950                  0                       1998            2   \n",
       "4   53.8614                  1                       1987            0   \n",
       "\n",
       "   Outlet_Location_Type  Outlet_Type  Item_Outlet_Sales  \n",
       "0                     0            1          3735.1380  \n",
       "1                     2            2           443.4228  \n",
       "2                     0            1          2097.2700  \n",
       "3                     2            0           732.3800  \n",
       "4                     2            1           994.7052  "
      ]
     },
     "execution_count": 102,
     "metadata": {},
     "output_type": "execute_result"
    }
   ],
   "source": [
    "train.head()"
   ]
  },
  {
   "cell_type": "code",
   "execution_count": 103,
   "metadata": {},
   "outputs": [],
   "source": [
    "# Seperate Features and Target\n",
    "X= train.drop(columns = ['Item_Outlet_Sales'], axis=1)\n",
    "y= train['Item_Outlet_Sales']"
   ]
  },
  {
   "cell_type": "code",
   "execution_count": 104,
   "metadata": {},
   "outputs": [
    {
     "name": "stdout",
     "output_type": "stream",
     "text": [
      "X_train  (6818, 11)\n",
      "X_test  (1705, 11)\n",
      "y_train  (6818,)\n",
      "y_test  (1705,)\n"
     ]
    }
   ],
   "source": [
    "# 20% data as validation set\n",
    "X_train,X_test,y_train,y_test = train_test_split(X,y,test_size=0.2,random_state=22)\n",
    "print(\"X_train \",X_train.shape)\n",
    "print(\"X_test \",X_test.shape)\n",
    "print(\"y_train \",y_train.shape)\n",
    "print(\"y_test \",y_test.shape)"
   ]
  },
  {
   "cell_type": "code",
   "execution_count": 105,
   "metadata": {},
   "outputs": [],
   "source": [
    "###################\n",
    "# Standardization - Input variable\n",
    "###################\n",
    "\n",
    "from sklearn.preprocessing import StandardScaler\n",
    "\n",
    "Scaling = StandardScaler().fit(X_train)\n",
    "x_train_std = Scaling.transform(X_train) # This step standardizes the train input data\n",
    "x_test_std = Scaling.transform(X_test) # This step standardizes the test input data\n",
    "\n",
    "X_train = pd.DataFrame(x_train_std, columns = X_train.columns)\n",
    "X_test = pd.DataFrame(x_test_std, columns = X_test.columns)"
   ]
  },
  {
   "cell_type": "code",
   "execution_count": 106,
   "metadata": {},
   "outputs": [
    {
     "name": "stdout",
     "output_type": "stream",
     "text": [
      "(6818, 1) (1705, 1)\n"
     ]
    }
   ],
   "source": [
    "# Changing the y_train and y_test data into 2D array to apply the scaling function\n",
    "y_train_arr = y_train.values.reshape(-1,1)\n",
    "y_test_arr = y_test.values.reshape(-1,1)\n",
    "print (y_train_arr.shape, y_test_arr.shape)"
   ]
  },
  {
   "cell_type": "code",
   "execution_count": 107,
   "metadata": {},
   "outputs": [
    {
     "name": "stdout",
     "output_type": "stream",
     "text": [
      "(6818, 1) (1705, 1)\n"
     ]
    }
   ],
   "source": [
    "###################\n",
    "# Standardization - Target variable\n",
    "###################\n",
    "\n",
    "Scaling = StandardScaler().fit(y_train_arr)\n",
    "y_train_std = Scaling.transform(y_train_arr) # This step standardizes the train target data\n",
    "y_test_std = Scaling.transform(y_test_arr) # This step standardizes the test target data\n",
    "\n",
    "\n",
    "y_train = pd.DataFrame(y_train_std)\n",
    "y_test = pd.DataFrame(y_test_std)\n",
    "print (y_train.shape, y_test.shape)"
   ]
  },
  {
   "cell_type": "code",
   "execution_count": 108,
   "metadata": {},
   "outputs": [
    {
     "name": "stdout",
     "output_type": "stream",
     "text": [
      "(6818,) (1705,)\n"
     ]
    }
   ],
   "source": [
    "#converting the y_train and y_test data back into 1D array\n",
    "y_train = y_train.values.reshape(-1,)\n",
    "y_test = y_test.values.reshape(-1,)\n",
    "print (y_train.shape, y_test.shape)"
   ]
  },
  {
   "cell_type": "code",
   "execution_count": 109,
   "metadata": {
    "scrolled": true
   },
   "outputs": [
    {
     "data": {
      "text/html": [
       "<div>\n",
       "<style scoped>\n",
       "    .dataframe tbody tr th:only-of-type {\n",
       "        vertical-align: middle;\n",
       "    }\n",
       "\n",
       "    .dataframe tbody tr th {\n",
       "        vertical-align: top;\n",
       "    }\n",
       "\n",
       "    .dataframe thead th {\n",
       "        text-align: right;\n",
       "    }\n",
       "</style>\n",
       "<table border=\"1\" class=\"dataframe\">\n",
       "  <thead>\n",
       "    <tr style=\"text-align: right;\">\n",
       "      <th></th>\n",
       "      <th>Item_Identifier</th>\n",
       "      <th>Item_Weight</th>\n",
       "      <th>Item_Fat_Content</th>\n",
       "      <th>Item_Visibility</th>\n",
       "      <th>Item_Type</th>\n",
       "      <th>Item_MRP</th>\n",
       "      <th>Outlet_Identifier</th>\n",
       "      <th>Outlet_Establishment_Year</th>\n",
       "      <th>Outlet_Size</th>\n",
       "      <th>Outlet_Location_Type</th>\n",
       "      <th>Outlet_Type</th>\n",
       "    </tr>\n",
       "  </thead>\n",
       "  <tbody>\n",
       "    <tr>\n",
       "      <th>count</th>\n",
       "      <td>6.818000e+03</td>\n",
       "      <td>6.818000e+03</td>\n",
       "      <td>6.818000e+03</td>\n",
       "      <td>6.818000e+03</td>\n",
       "      <td>6.818000e+03</td>\n",
       "      <td>6.818000e+03</td>\n",
       "      <td>6.818000e+03</td>\n",
       "      <td>6.818000e+03</td>\n",
       "      <td>6.818000e+03</td>\n",
       "      <td>6.818000e+03</td>\n",
       "      <td>6.818000e+03</td>\n",
       "    </tr>\n",
       "    <tr>\n",
       "      <th>mean</th>\n",
       "      <td>-5.066268e-17</td>\n",
       "      <td>4.640856e-17</td>\n",
       "      <td>-8.210244e-17</td>\n",
       "      <td>9.733585e-17</td>\n",
       "      <td>-2.250408e-17</td>\n",
       "      <td>2.066402e-16</td>\n",
       "      <td>-1.325168e-16</td>\n",
       "      <td>3.164872e-15</td>\n",
       "      <td>1.031573e-16</td>\n",
       "      <td>-7.653341e-17</td>\n",
       "      <td>-5.294403e-16</td>\n",
       "    </tr>\n",
       "    <tr>\n",
       "      <th>std</th>\n",
       "      <td>1.000073e+00</td>\n",
       "      <td>1.000073e+00</td>\n",
       "      <td>1.000073e+00</td>\n",
       "      <td>1.000073e+00</td>\n",
       "      <td>1.000073e+00</td>\n",
       "      <td>1.000073e+00</td>\n",
       "      <td>1.000073e+00</td>\n",
       "      <td>1.000073e+00</td>\n",
       "      <td>1.000073e+00</td>\n",
       "      <td>1.000073e+00</td>\n",
       "      <td>1.000073e+00</td>\n",
       "    </tr>\n",
       "    <tr>\n",
       "      <th>min</th>\n",
       "      <td>-1.737004e+00</td>\n",
       "      <td>-1.951219e+00</td>\n",
       "      <td>-7.436902e-01</td>\n",
       "      <td>-1.278907e+00</td>\n",
       "      <td>-1.703889e+00</td>\n",
       "      <td>-1.775194e+00</td>\n",
       "      <td>-1.660361e+00</td>\n",
       "      <td>-1.533603e+00</td>\n",
       "      <td>-1.964044e+00</td>\n",
       "      <td>-1.363814e+00</td>\n",
       "      <td>-1.502954e+00</td>\n",
       "    </tr>\n",
       "    <tr>\n",
       "      <th>25%</th>\n",
       "      <td>-8.564179e-01</td>\n",
       "      <td>-8.305571e-01</td>\n",
       "      <td>-7.436902e-01</td>\n",
       "      <td>-7.586592e-01</td>\n",
       "      <td>-7.567127e-01</td>\n",
       "      <td>-7.548741e-01</td>\n",
       "      <td>-9.553072e-01</td>\n",
       "      <td>-1.294972e+00</td>\n",
       "      <td>-3.768861e-01</td>\n",
       "      <td>-1.363814e+00</td>\n",
       "      <td>-2.459446e-01</td>\n",
       "    </tr>\n",
       "    <tr>\n",
       "      <th>50%</th>\n",
       "      <td>5.218557e-03</td>\n",
       "      <td>9.678815e-03</td>\n",
       "      <td>-7.436902e-01</td>\n",
       "      <td>-2.393125e-01</td>\n",
       "      <td>-2.831247e-01</td>\n",
       "      <td>3.699592e-02</td>\n",
       "      <td>1.022731e-01</td>\n",
       "      <td>1.368157e-01</td>\n",
       "      <td>-3.768861e-01</td>\n",
       "      <td>-1.332047e-01</td>\n",
       "      <td>-2.459446e-01</td>\n",
       "    </tr>\n",
       "    <tr>\n",
       "      <th>75%</th>\n",
       "      <td>8.601670e-01</td>\n",
       "      <td>7.518324e-01</td>\n",
       "      <td>1.344646e+00</td>\n",
       "      <td>5.568437e-01</td>\n",
       "      <td>6.640512e-01</td>\n",
       "      <td>7.148322e-01</td>\n",
       "      <td>8.073266e-01</td>\n",
       "      <td>7.333938e-01</td>\n",
       "      <td>1.210272e+00</td>\n",
       "      <td>1.097404e+00</td>\n",
       "      <td>-2.459446e-01</td>\n",
       "    </tr>\n",
       "    <tr>\n",
       "      <th>max</th>\n",
       "      <td>1.736294e+00</td>\n",
       "      <td>2.015382e+00</td>\n",
       "      <td>1.344646e+00</td>\n",
       "      <td>5.048638e+00</td>\n",
       "      <td>1.848021e+00</td>\n",
       "      <td>2.036612e+00</td>\n",
       "      <td>1.512380e+00</td>\n",
       "      <td>1.329972e+00</td>\n",
       "      <td>1.210272e+00</td>\n",
       "      <td>1.097404e+00</td>\n",
       "      <td>2.268074e+00</td>\n",
       "    </tr>\n",
       "  </tbody>\n",
       "</table>\n",
       "</div>"
      ],
      "text/plain": [
       "       Item_Identifier   Item_Weight  Item_Fat_Content  Item_Visibility  \\\n",
       "count     6.818000e+03  6.818000e+03      6.818000e+03     6.818000e+03   \n",
       "mean     -5.066268e-17  4.640856e-17     -8.210244e-17     9.733585e-17   \n",
       "std       1.000073e+00  1.000073e+00      1.000073e+00     1.000073e+00   \n",
       "min      -1.737004e+00 -1.951219e+00     -7.436902e-01    -1.278907e+00   \n",
       "25%      -8.564179e-01 -8.305571e-01     -7.436902e-01    -7.586592e-01   \n",
       "50%       5.218557e-03  9.678815e-03     -7.436902e-01    -2.393125e-01   \n",
       "75%       8.601670e-01  7.518324e-01      1.344646e+00     5.568437e-01   \n",
       "max       1.736294e+00  2.015382e+00      1.344646e+00     5.048638e+00   \n",
       "\n",
       "          Item_Type      Item_MRP  Outlet_Identifier  \\\n",
       "count  6.818000e+03  6.818000e+03       6.818000e+03   \n",
       "mean  -2.250408e-17  2.066402e-16      -1.325168e-16   \n",
       "std    1.000073e+00  1.000073e+00       1.000073e+00   \n",
       "min   -1.703889e+00 -1.775194e+00      -1.660361e+00   \n",
       "25%   -7.567127e-01 -7.548741e-01      -9.553072e-01   \n",
       "50%   -2.831247e-01  3.699592e-02       1.022731e-01   \n",
       "75%    6.640512e-01  7.148322e-01       8.073266e-01   \n",
       "max    1.848021e+00  2.036612e+00       1.512380e+00   \n",
       "\n",
       "       Outlet_Establishment_Year   Outlet_Size  Outlet_Location_Type  \\\n",
       "count               6.818000e+03  6.818000e+03          6.818000e+03   \n",
       "mean                3.164872e-15  1.031573e-16         -7.653341e-17   \n",
       "std                 1.000073e+00  1.000073e+00          1.000073e+00   \n",
       "min                -1.533603e+00 -1.964044e+00         -1.363814e+00   \n",
       "25%                -1.294972e+00 -3.768861e-01         -1.363814e+00   \n",
       "50%                 1.368157e-01 -3.768861e-01         -1.332047e-01   \n",
       "75%                 7.333938e-01  1.210272e+00          1.097404e+00   \n",
       "max                 1.329972e+00  1.210272e+00          1.097404e+00   \n",
       "\n",
       "        Outlet_Type  \n",
       "count  6.818000e+03  \n",
       "mean  -5.294403e-16  \n",
       "std    1.000073e+00  \n",
       "min   -1.502954e+00  \n",
       "25%   -2.459446e-01  \n",
       "50%   -2.459446e-01  \n",
       "75%   -2.459446e-01  \n",
       "max    2.268074e+00  "
      ]
     },
     "execution_count": 109,
     "metadata": {},
     "output_type": "execute_result"
    }
   ],
   "source": [
    "X_train.describe()"
   ]
  },
  {
   "cell_type": "markdown",
   "metadata": {},
   "source": [
    "### Step 5: Building Model"
   ]
  },
  {
   "cell_type": "code",
   "execution_count": 110,
   "metadata": {},
   "outputs": [],
   "source": [
    "# Model Building with Linear regression algorithm\n",
    "features= X.columns\n",
    "LR = LinearRegression()\n",
    "LR.fit(X_train,y_train)\n",
    "y_train_pred = LR.predict(X_train)\n",
    "y_pred = LR.predict(X_test)\n",
    "coef = pd.Series(LR.coef_,features).sort_values()"
   ]
  },
  {
   "cell_type": "code",
   "execution_count": 111,
   "metadata": {},
   "outputs": [
    {
     "data": {
      "text/plain": [
       "Outlet_Size                 -0.128588\n",
       "Outlet_Location_Type        -0.072281\n",
       "Item_Visibility             -0.041970\n",
       "Item_Identifier             -0.000614\n",
       "Outlet_Establishment_Year    0.000718\n",
       "Item_Weight                  0.001156\n",
       "Item_Type                    0.004467\n",
       "Item_Fat_Content             0.009794\n",
       "Outlet_Identifier            0.110589\n",
       "Outlet_Type                  0.378879\n",
       "Item_MRP                     0.569358\n",
       "dtype: float64"
      ]
     },
     "execution_count": 111,
     "metadata": {},
     "output_type": "execute_result"
    }
   ],
   "source": [
    "coef"
   ]
  },
  {
   "cell_type": "code",
   "execution_count": 112,
   "metadata": {},
   "outputs": [
    {
     "data": {
      "text/plain": [
       "<AxesSubplot:>"
      ]
     },
     "execution_count": 112,
     "metadata": {},
     "output_type": "execute_result"
    },
    {
     "data": {
      "image/png": "[encoded data removed]",
      "text/plain": [
       "<Figure size 576x360 with 1 Axes>"
      ]
     },
     "metadata": {
      "needs_background": "light"
     },
     "output_type": "display_data"
    }
   ],
   "source": [
    "# Barplot for coefficients\n",
    "plt.figure(figsize=(8,5))\n",
    "sns.barplot(LR.coef_,features)"
   ]
  },
  {
   "cell_type": "markdown",
   "metadata": {},
   "source": [
    "* __Item_MRP, Item Visibility, Outlet_Type, Outlet_Size, Outlet_Location_Type are the most important attributes to determine Item_Outlet_Sales.__"
   ]
  },
  {
   "cell_type": "markdown",
   "metadata": {},
   "source": [
    "__RMSE__"
   ]
  },
  {
   "cell_type": "code",
   "execution_count": 113,
   "metadata": {},
   "outputs": [
    {
     "name": "stdout",
     "output_type": "stream",
     "text": [
      "Root Mean Squared Error: 0.6951123536973633\n",
      "R Squared: 0.5168188157373116\n"
     ]
    }
   ],
   "source": [
    "# Calculating the training error\n",
    "MSE= metrics.mean_squared_error(y_train,y_train_pred)\n",
    "from math import sqrt\n",
    "rmse = sqrt(MSE)\n",
    "print(\"Root Mean Squared Error:\",rmse)\n",
    "r_squared= metrics.r2_score(y_train, y_train_pred)\n",
    "print(\"R Squared:\",r_squared)"
   ]
  },
  {
   "cell_type": "code",
   "execution_count": 114,
   "metadata": {},
   "outputs": [
    {
     "name": "stdout",
     "output_type": "stream",
     "text": [
      "Root Mean Squared Error: 0.7328753236446559\n",
      "R Squared: 0.5017470862438616\n"
     ]
    }
   ],
   "source": [
    "# Calculating the test error\n",
    "MSE= metrics.mean_squared_error(y_test,y_pred)\n",
    "from math import sqrt\n",
    "rmse = sqrt(MSE)\n",
    "print(\"Root Mean Squared Error:\",rmse)\n",
    "r_squared= metrics.r2_score(y_test, y_pred)\n",
    "print(\"R Squared:\",r_squared)"
   ]
  },
  {
   "cell_type": "markdown",
   "metadata": {},
   "source": [
    "RMSE score gives the root of mean of squared difference between the predicted and actual target values, so the lesser the RMSE better is the model, here it is about 73 percent which shows the poor performance of the model. \n",
    "R squared shows the predictive performance of the model related to the base prediction of calculating the mean values,\n",
    "higher the R square, the model is good.\n",
    "Here it is only 50 percent which shows the predictive performance of the model is low.\n",
    "Training error and test error are almost same and they are high in the above model.\n",
    "When both training and test error are high, it shows that the model is underfitting the data and the bias is more in the model.\n",
    "When test error is higher than the training error it shows that the model is overfitting the data and the variance is more in the model, so the model fails to generalise to the new data.\n",
    "In this above case the training error and the test error are similar and both are high, this shows that the model is underfitting.\n",
    "The issue of underfitting can be overcome by increasing the complexity of the model or by reducing the size of the data."
   ]
  },
  {
   "cell_type": "markdown",
   "metadata": {},
   "source": [
    "Algorithms like Decision Tree, Random Forest and Support vector Regressor can be tried to check the performance of the models with these algorithms."
   ]
  },
  {
   "cell_type": "code",
   "execution_count": 115,
   "metadata": {},
   "outputs": [],
   "source": [
    "# Model Building with Decision Tree\n",
    "from sklearn.tree import DecisionTreeRegressor\n",
    "\n",
    "DT = DecisionTreeRegressor(random_state=123)\n",
    "DT.fit(X_train,y_train)\n",
    "y_train_pred = DT.predict(X_train)\n",
    "y_pred = DT.predict(X_test)"
   ]
  },
  {
   "cell_type": "code",
   "execution_count": 116,
   "metadata": {},
   "outputs": [
    {
     "name": "stdout",
     "output_type": "stream",
     "text": [
      "Root Mean Squared Error: 0.0\n",
      "R Squared: 1.0\n"
     ]
    }
   ],
   "source": [
    "# Calculating the training error\n",
    "MSE= metrics.mean_squared_error(y_train,y_train_pred)\n",
    "from math import sqrt\n",
    "rmse = sqrt(MSE)\n",
    "print(\"Root Mean Squared Error:\",rmse)\n",
    "r_squared= metrics.r2_score(y_train, y_train_pred)\n",
    "print(\"R Squared:\",r_squared)"
   ]
  },
  {
   "cell_type": "code",
   "execution_count": 117,
   "metadata": {},
   "outputs": [
    {
     "name": "stdout",
     "output_type": "stream",
     "text": [
      "Root Mean Squared Error: 0.9450839067118084\n",
      "R Squared: 0.17142774846143527\n"
     ]
    }
   ],
   "source": [
    "# Calculating the testing error\n",
    "MSE= metrics.mean_squared_error(y_test,y_pred)\n",
    "from math import sqrt\n",
    "rmse = sqrt(MSE)\n",
    "print(\"Root Mean Squared Error:\",rmse)\n",
    "r_squared= metrics.r2_score(y_test, y_pred)\n",
    "print(\"R Squared:\",r_squared)"
   ]
  },
  {
   "cell_type": "markdown",
   "metadata": {},
   "source": [
    "In Decision tree model the training error is 0, but the test error has increased very highly which shows that the model is overfitting the data and variance in the model is so high that the model failed to generalise to the new data."
   ]
  },
  {
   "cell_type": "code",
   "execution_count": 118,
   "metadata": {},
   "outputs": [],
   "source": [
    "from sklearn.ensemble import RandomForestRegressor\n",
    "\n",
    "# Model Building Using Random Forest\n",
    "RF = RandomForestRegressor(n_estimators = 100, max_features = 'auto', max_depth = 100, min_samples_split =10, \n",
    "                           min_samples_leaf= 4, random_state = 1)\n",
    "\n",
    "RF.fit(X_train,y_train)\n",
    "y_train_pred = RF.predict(X_train)\n",
    "y_pred = RF.predict(X_test)\n"
   ]
  },
  {
   "cell_type": "code",
   "execution_count": 119,
   "metadata": {},
   "outputs": [
    {
     "name": "stdout",
     "output_type": "stream",
     "text": [
      "Root Mean Squared Error: 0.4377815003664634\n",
      "R Squared: 0.8083473579368883\n"
     ]
    }
   ],
   "source": [
    "# Calculating the training error\n",
    "MSE= metrics.mean_squared_error(y_train,y_train_pred)\n",
    "from math import sqrt\n",
    "rmse = sqrt(MSE)\n",
    "print(\"Root Mean Squared Error:\",rmse)\n",
    "r_squared= metrics.r2_score(y_train, y_train_pred)\n",
    "print(\"R Squared:\",r_squared)"
   ]
  },
  {
   "cell_type": "code",
   "execution_count": 120,
   "metadata": {},
   "outputs": [
    {
     "name": "stdout",
     "output_type": "stream",
     "text": [
      "Root Mean Squared Error: 0.6956627153076078\n",
      "R Squared: 0.5510612383498603\n"
     ]
    }
   ],
   "source": [
    "# Calculating the testing error\n",
    "MSE= metrics.mean_squared_error(y_test,y_pred)\n",
    "from math import sqrt\n",
    "rmse = sqrt(MSE)\n",
    "print(\"Root Mean Squared Error:\",rmse)\n",
    "r_squared= metrics.r2_score(y_test, y_pred)\n",
    "print(\"R Squared:\",r_squared)"
   ]
  },
  {
   "cell_type": "markdown",
   "metadata": {},
   "source": [
    "In Random forest model the training error is less, comparatively the test error has increased which shows that the model is slightly overfitting the data and the variance in the model is high that the model performance is low with the new data."
   ]
  },
  {
   "cell_type": "code",
   "execution_count": 121,
   "metadata": {},
   "outputs": [],
   "source": [
    "from sklearn.svm import SVR\n",
    "\n",
    "# Model Building using support vector regressor\n",
    "SVR = SVR(kernel='rbf')\n",
    "SVR.fit(X_train,y_train)\n",
    "y_train_pred = SVR.predict(X_train)\n",
    "y_pred = SVR.predict(X_test)"
   ]
  },
  {
   "cell_type": "code",
   "execution_count": 122,
   "metadata": {},
   "outputs": [
    {
     "name": "stdout",
     "output_type": "stream",
     "text": [
      "Root Mean Squared Error: 0.604257329691508\n",
      "R Squared: 0.6348730795140882\n"
     ]
    }
   ],
   "source": [
    "# Calculating the training error\n",
    "MSE= metrics.mean_squared_error(y_train,y_train_pred)\n",
    "from math import sqrt\n",
    "rmse = sqrt(MSE)\n",
    "print(\"Root Mean Squared Error:\",rmse)\n",
    "r_squared= metrics.r2_score(y_train, y_train_pred)\n",
    "print(\"R Squared:\",r_squared)"
   ]
  },
  {
   "cell_type": "code",
   "execution_count": 123,
   "metadata": {},
   "outputs": [
    {
     "name": "stdout",
     "output_type": "stream",
     "text": [
      "Root Mean Squared Error: 0.6871710374575167\n",
      "R Squared: 0.5619543794842448\n"
     ]
    }
   ],
   "source": [
    "# Calculating the testing error\n",
    "MSE= metrics.mean_squared_error(y_test,y_pred)\n",
    "from math import sqrt\n",
    "rmse = sqrt(MSE)\n",
    "print(\"Root Mean Squared Error:\",rmse)\n",
    "r_squared= metrics.r2_score(y_test, y_pred)\n",
    "print(\"R Squared:\",r_squared)"
   ]
  },
  {
   "cell_type": "markdown",
   "metadata": {},
   "source": [
    "In SVR model both the training and test error are almost same and the R squared value is also similar, it shows that there is no issue of overfitting, but there might be an issue of underfitting where the model has not captured the pattern underlying the data."
   ]
  },
  {
   "cell_type": "markdown",
   "metadata": {},
   "source": [
    "To summarise, Linear regression and Support vector regressor model performances are similar and they have an issue of underfitting which can be improved by increasing the complexity of the model or by reducing the size of the data.\n",
    "Where Decision tree is worse and Random forest is better but both have the issue of overfitting which can be reduced by increasing the size of the data."
   ]
  },
  {
   "cell_type": "markdown",
   "metadata": {},
   "source": [
    "To resolve the issue of underfitting, the number of variables included in the model can be reduced.\n",
    "To include only the variables which are highly correlated to the target variable and removing the variables causing multicollinearity can improve the model."
   ]
  },
  {
   "cell_type": "markdown",
   "metadata": {},
   "source": [
    "### Step 7: Model Performance Analysis"
   ]
  },
  {
   "cell_type": "code",
   "execution_count": 124,
   "metadata": {},
   "outputs": [
    {
     "data": {
      "text/html": [
       "<div>\n",
       "<style scoped>\n",
       "    .dataframe tbody tr th:only-of-type {\n",
       "        vertical-align: middle;\n",
       "    }\n",
       "\n",
       "    .dataframe tbody tr th {\n",
       "        vertical-align: top;\n",
       "    }\n",
       "\n",
       "    .dataframe thead th {\n",
       "        text-align: right;\n",
       "    }\n",
       "</style>\n",
       "<table border=\"1\" class=\"dataframe\">\n",
       "  <thead>\n",
       "    <tr style=\"text-align: right;\">\n",
       "      <th></th>\n",
       "      <th>Item_Identifier</th>\n",
       "      <th>Item_Weight</th>\n",
       "      <th>Item_Fat_Content</th>\n",
       "      <th>Item_Visibility</th>\n",
       "      <th>Item_Type</th>\n",
       "      <th>Item_MRP</th>\n",
       "      <th>Outlet_Identifier</th>\n",
       "      <th>Outlet_Establishment_Year</th>\n",
       "      <th>Outlet_Size</th>\n",
       "      <th>Outlet_Location_Type</th>\n",
       "      <th>Outlet_Type</th>\n",
       "      <th>Item_Outlet_Sales</th>\n",
       "    </tr>\n",
       "  </thead>\n",
       "  <tbody>\n",
       "    <tr>\n",
       "      <th>Item_Identifier</th>\n",
       "      <td>1.000000</td>\n",
       "      <td>0.044518</td>\n",
       "      <td>-0.114660</td>\n",
       "      <td>-0.025482</td>\n",
       "      <td>-0.017973</td>\n",
       "      <td>0.012853</td>\n",
       "      <td>-0.008602</td>\n",
       "      <td>-0.012772</td>\n",
       "      <td>0.005383</td>\n",
       "      <td>0.003656</td>\n",
       "      <td>-0.001178</td>\n",
       "      <td>0.002869</td>\n",
       "    </tr>\n",
       "    <tr>\n",
       "      <th>Item_Weight</th>\n",
       "      <td>0.044518</td>\n",
       "      <td>1.000000</td>\n",
       "      <td>-0.021157</td>\n",
       "      <td>-0.012049</td>\n",
       "      <td>0.028015</td>\n",
       "      <td>0.024756</td>\n",
       "      <td>-0.007975</td>\n",
       "      <td>-0.008301</td>\n",
       "      <td>-0.005512</td>\n",
       "      <td>0.004088</td>\n",
       "      <td>-0.000566</td>\n",
       "      <td>0.011550</td>\n",
       "    </tr>\n",
       "    <tr>\n",
       "      <th>Item_Fat_Content</th>\n",
       "      <td>-0.114660</td>\n",
       "      <td>-0.021157</td>\n",
       "      <td>1.000000</td>\n",
       "      <td>0.047314</td>\n",
       "      <td>-0.139434</td>\n",
       "      <td>0.006063</td>\n",
       "      <td>0.000764</td>\n",
       "      <td>0.003151</td>\n",
       "      <td>-0.000492</td>\n",
       "      <td>-0.001598</td>\n",
       "      <td>0.002199</td>\n",
       "      <td>0.018719</td>\n",
       "    </tr>\n",
       "    <tr>\n",
       "      <th>Item_Visibility</th>\n",
       "      <td>-0.025482</td>\n",
       "      <td>-0.012049</td>\n",
       "      <td>0.047314</td>\n",
       "      <td>1.000000</td>\n",
       "      <td>-0.035249</td>\n",
       "      <td>-0.001315</td>\n",
       "      <td>-0.100439</td>\n",
       "      <td>-0.074834</td>\n",
       "      <td>0.136452</td>\n",
       "      <td>-0.028099</td>\n",
       "      <td>-0.173468</td>\n",
       "      <td>-0.128625</td>\n",
       "    </tr>\n",
       "    <tr>\n",
       "      <th>Item_Type</th>\n",
       "      <td>-0.017973</td>\n",
       "      <td>0.028015</td>\n",
       "      <td>-0.139434</td>\n",
       "      <td>-0.035249</td>\n",
       "      <td>1.000000</td>\n",
       "      <td>0.032651</td>\n",
       "      <td>0.001656</td>\n",
       "      <td>0.004970</td>\n",
       "      <td>-0.001582</td>\n",
       "      <td>0.003084</td>\n",
       "      <td>0.003053</td>\n",
       "      <td>0.017048</td>\n",
       "    </tr>\n",
       "    <tr>\n",
       "      <th>Item_MRP</th>\n",
       "      <td>0.012853</td>\n",
       "      <td>0.024756</td>\n",
       "      <td>0.006063</td>\n",
       "      <td>-0.001315</td>\n",
       "      <td>0.032651</td>\n",
       "      <td>1.000000</td>\n",
       "      <td>0.003319</td>\n",
       "      <td>0.005020</td>\n",
       "      <td>0.005402</td>\n",
       "      <td>0.000232</td>\n",
       "      <td>-0.001975</td>\n",
       "      <td>0.567574</td>\n",
       "    </tr>\n",
       "    <tr>\n",
       "      <th>Outlet_Identifier</th>\n",
       "      <td>-0.008602</td>\n",
       "      <td>-0.007975</td>\n",
       "      <td>0.000764</td>\n",
       "      <td>-0.100439</td>\n",
       "      <td>0.001656</td>\n",
       "      <td>0.003319</td>\n",
       "      <td>1.000000</td>\n",
       "      <td>0.079035</td>\n",
       "      <td>0.307955</td>\n",
       "      <td>-0.716176</td>\n",
       "      <td>0.099873</td>\n",
       "      <td>0.162325</td>\n",
       "    </tr>\n",
       "    <tr>\n",
       "      <th>Outlet_Establishment_Year</th>\n",
       "      <td>-0.012772</td>\n",
       "      <td>-0.008301</td>\n",
       "      <td>0.003151</td>\n",
       "      <td>-0.074834</td>\n",
       "      <td>0.004970</td>\n",
       "      <td>0.005020</td>\n",
       "      <td>0.079035</td>\n",
       "      <td>1.000000</td>\n",
       "      <td>0.185859</td>\n",
       "      <td>-0.089216</td>\n",
       "      <td>-0.122304</td>\n",
       "      <td>-0.049135</td>\n",
       "    </tr>\n",
       "    <tr>\n",
       "      <th>Outlet_Size</th>\n",
       "      <td>0.005383</td>\n",
       "      <td>-0.005512</td>\n",
       "      <td>-0.000492</td>\n",
       "      <td>0.136452</td>\n",
       "      <td>-0.001582</td>\n",
       "      <td>0.005402</td>\n",
       "      <td>0.307955</td>\n",
       "      <td>0.185859</td>\n",
       "      <td>1.000000</td>\n",
       "      <td>-0.471283</td>\n",
       "      <td>-0.346973</td>\n",
       "      <td>-0.193184</td>\n",
       "    </tr>\n",
       "    <tr>\n",
       "      <th>Outlet_Location_Type</th>\n",
       "      <td>0.003656</td>\n",
       "      <td>0.004088</td>\n",
       "      <td>-0.001598</td>\n",
       "      <td>-0.028099</td>\n",
       "      <td>0.003084</td>\n",
       "      <td>0.000232</td>\n",
       "      <td>-0.716176</td>\n",
       "      <td>-0.089216</td>\n",
       "      <td>-0.471283</td>\n",
       "      <td>1.000000</td>\n",
       "      <td>0.467219</td>\n",
       "      <td>0.089367</td>\n",
       "    </tr>\n",
       "    <tr>\n",
       "      <th>Outlet_Type</th>\n",
       "      <td>-0.001178</td>\n",
       "      <td>-0.000566</td>\n",
       "      <td>0.002199</td>\n",
       "      <td>-0.173468</td>\n",
       "      <td>0.003053</td>\n",
       "      <td>-0.001975</td>\n",
       "      <td>0.099873</td>\n",
       "      <td>-0.122304</td>\n",
       "      <td>-0.346973</td>\n",
       "      <td>0.467219</td>\n",
       "      <td>1.000000</td>\n",
       "      <td>0.401522</td>\n",
       "    </tr>\n",
       "    <tr>\n",
       "      <th>Item_Outlet_Sales</th>\n",
       "      <td>0.002869</td>\n",
       "      <td>0.011550</td>\n",
       "      <td>0.018719</td>\n",
       "      <td>-0.128625</td>\n",
       "      <td>0.017048</td>\n",
       "      <td>0.567574</td>\n",
       "      <td>0.162325</td>\n",
       "      <td>-0.049135</td>\n",
       "      <td>-0.193184</td>\n",
       "      <td>0.089367</td>\n",
       "      <td>0.401522</td>\n",
       "      <td>1.000000</td>\n",
       "    </tr>\n",
       "  </tbody>\n",
       "</table>\n",
       "</div>"
      ],
      "text/plain": [
       "                           Item_Identifier  Item_Weight  Item_Fat_Content  \\\n",
       "Item_Identifier                   1.000000     0.044518         -0.114660   \n",
       "Item_Weight                       0.044518     1.000000         -0.021157   \n",
       "Item_Fat_Content                 -0.114660    -0.021157          1.000000   \n",
       "Item_Visibility                  -0.025482    -0.012049          0.047314   \n",
       "Item_Type                        -0.017973     0.028015         -0.139434   \n",
       "Item_MRP                          0.012853     0.024756          0.006063   \n",
       "Outlet_Identifier                -0.008602    -0.007975          0.000764   \n",
       "Outlet_Establishment_Year        -0.012772    -0.008301          0.003151   \n",
       "Outlet_Size                       0.005383    -0.005512         -0.000492   \n",
       "Outlet_Location_Type              0.003656     0.004088         -0.001598   \n",
       "Outlet_Type                      -0.001178    -0.000566          0.002199   \n",
       "Item_Outlet_Sales                 0.002869     0.011550          0.018719   \n",
       "\n",
       "                           Item_Visibility  Item_Type  Item_MRP  \\\n",
       "Item_Identifier                  -0.025482  -0.017973  0.012853   \n",
       "Item_Weight                      -0.012049   0.028015  0.024756   \n",
       "Item_Fat_Content                  0.047314  -0.139434  0.006063   \n",
       "Item_Visibility                   1.000000  -0.035249 -0.001315   \n",
       "Item_Type                        -0.035249   1.000000  0.032651   \n",
       "Item_MRP                         -0.001315   0.032651  1.000000   \n",
       "Outlet_Identifier                -0.100439   0.001656  0.003319   \n",
       "Outlet_Establishment_Year        -0.074834   0.004970  0.005020   \n",
       "Outlet_Size                       0.136452  -0.001582  0.005402   \n",
       "Outlet_Location_Type             -0.028099   0.003084  0.000232   \n",
       "Outlet_Type                      -0.173468   0.003053 -0.001975   \n",
       "Item_Outlet_Sales                -0.128625   0.017048  0.567574   \n",
       "\n",
       "                           Outlet_Identifier  Outlet_Establishment_Year  \\\n",
       "Item_Identifier                    -0.008602                  -0.012772   \n",
       "Item_Weight                        -0.007975                  -0.008301   \n",
       "Item_Fat_Content                    0.000764                   0.003151   \n",
       "Item_Visibility                    -0.100439                  -0.074834   \n",
       "Item_Type                           0.001656                   0.004970   \n",
       "Item_MRP                            0.003319                   0.005020   \n",
       "Outlet_Identifier                   1.000000                   0.079035   \n",
       "Outlet_Establishment_Year           0.079035                   1.000000   \n",
       "Outlet_Size                         0.307955                   0.185859   \n",
       "Outlet_Location_Type               -0.716176                  -0.089216   \n",
       "Outlet_Type                         0.099873                  -0.122304   \n",
       "Item_Outlet_Sales                   0.162325                  -0.049135   \n",
       "\n",
       "                           Outlet_Size  Outlet_Location_Type  Outlet_Type  \\\n",
       "Item_Identifier               0.005383              0.003656    -0.001178   \n",
       "Item_Weight                  -0.005512              0.004088    -0.000566   \n",
       "Item_Fat_Content             -0.000492             -0.001598     0.002199   \n",
       "Item_Visibility               0.136452             -0.028099    -0.173468   \n",
       "Item_Type                    -0.001582              0.003084     0.003053   \n",
       "Item_MRP                      0.005402              0.000232    -0.001975   \n",
       "Outlet_Identifier             0.307955             -0.716176     0.099873   \n",
       "Outlet_Establishment_Year     0.185859             -0.089216    -0.122304   \n",
       "Outlet_Size                   1.000000             -0.471283    -0.346973   \n",
       "Outlet_Location_Type         -0.471283              1.000000     0.467219   \n",
       "Outlet_Type                  -0.346973              0.467219     1.000000   \n",
       "Item_Outlet_Sales            -0.193184              0.089367     0.401522   \n",
       "\n",
       "                           Item_Outlet_Sales  \n",
       "Item_Identifier                     0.002869  \n",
       "Item_Weight                         0.011550  \n",
       "Item_Fat_Content                    0.018719  \n",
       "Item_Visibility                    -0.128625  \n",
       "Item_Type                           0.017048  \n",
       "Item_MRP                            0.567574  \n",
       "Outlet_Identifier                   0.162325  \n",
       "Outlet_Establishment_Year          -0.049135  \n",
       "Outlet_Size                        -0.193184  \n",
       "Outlet_Location_Type                0.089367  \n",
       "Outlet_Type                         0.401522  \n",
       "Item_Outlet_Sales                   1.000000  "
      ]
     },
     "execution_count": 124,
     "metadata": {},
     "output_type": "execute_result"
    }
   ],
   "source": [
    "train.corr()"
   ]
  },
  {
   "cell_type": "markdown",
   "metadata": {},
   "source": [
    "The varaibles \"Item_MRP, Outlet_Type, Outlet_Size, Item Visibility, Outlet_Location_Type, Outlet_Identifier\" are highly correalted with the target variable \"Item_Outlet_Sales\". "
   ]
  },
  {
   "cell_type": "code",
   "execution_count": 125,
   "metadata": {},
   "outputs": [
    {
     "data": {
      "text/plain": [
       "Text(0.5, 1.0, 'Correlation between features')"
      ]
     },
     "execution_count": 125,
     "metadata": {},
     "output_type": "execute_result"
    },
    {
     "data": {
      "image/png": "[encoded data removed]",
      "text/plain": [
       "<Figure size 2160x2160 with 2 Axes>"
      ]
     },
     "metadata": {
      "needs_background": "light"
     },
     "output_type": "display_data"
    }
   ],
   "source": [
    "# Ploting correlation plot\n",
    "import matplotlib.pyplot as plt\n",
    "corr=train.corr()\n",
    "plt.figure(figsize=(30, 30))\n",
    "\n",
    "sns.heatmap(corr[(corr >= 0.05) | (corr <= -0.05)], \n",
    "            cmap='YlGnBu', vmax=1.0, vmin=-1.0, linewidths=0.1,\n",
    "            annot=True, annot_kws={\"size\": 8}, square=True);\n",
    "plt.title('Correlation between features')"
   ]
  },
  {
   "cell_type": "markdown",
   "metadata": {},
   "source": [
    "From the correlation matrix we can find that there is some correlated input variables.\n",
    "\"Item_MRP\" variable is not correlated with any input varaible and its correaltion with the target variable is high so it is an important variable to  be included in the model.\n",
    "\"Outlet type, Outlet_Size, Item Visibility, Outlet_Location_Type, Outlet_Identifier, Outlet_Establishment_Year\" are correlated to each other and also to the target variable, so selecting one of these varaibles is sufficient.\n",
    "So \"Outlet_Type\" variable which has the highest correlation with the target variable can be selected to be included in the model."
   ]
  },
  {
   "cell_type": "code",
   "execution_count": 126,
   "metadata": {},
   "outputs": [
    {
     "name": "stdout",
     "output_type": "stream",
     "text": [
      "(8523, 2) (8523,)\n"
     ]
    }
   ],
   "source": [
    "# Seperate Features and Target\n",
    "X= train[['Item_MRP', 'Outlet_Type']]\n",
    "y= train['Item_Outlet_Sales']\n",
    "print(X.shape, y.shape)"
   ]
  },
  {
   "cell_type": "code",
   "execution_count": 127,
   "metadata": {},
   "outputs": [
    {
     "name": "stdout",
     "output_type": "stream",
     "text": [
      "X_train  (6818, 2)\n",
      "X_test  (1705, 2)\n",
      "y_train  (6818,)\n",
      "y_test  (1705,)\n"
     ]
    }
   ],
   "source": [
    "# 20% data as validation set\n",
    "X_train,X_test,y_train,y_test = train_test_split(X,y,test_size=0.2,random_state=22)\n",
    "print(\"X_train \",X_train.shape)\n",
    "print(\"X_test \",X_test.shape)\n",
    "print(\"y_train \",y_train.shape)\n",
    "print(\"y_test \",y_test.shape)"
   ]
  },
  {
   "cell_type": "code",
   "execution_count": 128,
   "metadata": {},
   "outputs": [
    {
     "name": "stdout",
     "output_type": "stream",
     "text": [
      "(6818, 2) (1705, 2)\n"
     ]
    }
   ],
   "source": [
    "###################\n",
    "# Standardization\n",
    "###################\n",
    "\n",
    "from sklearn.preprocessing import StandardScaler\n",
    "\n",
    "Scaling = StandardScaler().fit(X_train)\n",
    "x_train_std = Scaling.transform(X_train) # This step standardizes the train input data\n",
    "x_test_std = Scaling.transform(X_test) # This step standardizes the test input data\n",
    "\n",
    "X_train = pd.DataFrame(x_train_std, columns = X_train.columns)\n",
    "X_test = pd.DataFrame(x_test_std, columns = X_test.columns)\n",
    "print (X_train.shape, X_test.shape)"
   ]
  },
  {
   "cell_type": "code",
   "execution_count": 129,
   "metadata": {},
   "outputs": [
    {
     "name": "stdout",
     "output_type": "stream",
     "text": [
      "(6818, 1) (1705, 1)\n"
     ]
    }
   ],
   "source": [
    "# Changing the y_train and y_test data into 2D array to apply the scaling function\n",
    "y_train_arr = y_train.values.reshape(-1,1)\n",
    "y_test_arr = y_test.values.reshape(-1,1)\n",
    "print (y_train_arr.shape, y_test_arr.shape)"
   ]
  },
  {
   "cell_type": "code",
   "execution_count": 130,
   "metadata": {},
   "outputs": [
    {
     "name": "stdout",
     "output_type": "stream",
     "text": [
      "(6818, 1) (1705, 1)\n"
     ]
    }
   ],
   "source": [
    "###################\n",
    "# Standardization - Target variable\n",
    "###################\n",
    "\n",
    "Scaling = StandardScaler().fit(y_train_arr)\n",
    "y_train_std = Scaling.transform(y_train_arr) # This step standardizes the train target data\n",
    "y_test_std = Scaling.transform(y_test_arr) # This step standardizes the test target data\n",
    "\n",
    "\n",
    "y_train = pd.DataFrame(y_train_std)\n",
    "y_test = pd.DataFrame(y_test_std)\n",
    "print (y_train.shape, y_test.shape)"
   ]
  },
  {
   "cell_type": "code",
   "execution_count": 131,
   "metadata": {},
   "outputs": [
    {
     "name": "stdout",
     "output_type": "stream",
     "text": [
      "(6818,) (1705,)\n"
     ]
    }
   ],
   "source": [
    "#converting the y_train and y_test data back into 1D array\n",
    "y_train = y_train.values.reshape(-1,)\n",
    "y_test = y_test.values.reshape(-1,)\n",
    "print (y_train.shape, y_test.shape)"
   ]
  },
  {
   "cell_type": "code",
   "execution_count": 132,
   "metadata": {},
   "outputs": [],
   "source": [
    "# Model Building with Linear regression algorithm\n",
    "LR = LinearRegression()\n",
    "LR.fit(X_train,y_train)\n",
    "y_train_pred = LR.predict(X_train)\n",
    "y_pred = LR.predict(X_test)"
   ]
  },
  {
   "cell_type": "code",
   "execution_count": 133,
   "metadata": {},
   "outputs": [
    {
     "name": "stdout",
     "output_type": "stream",
     "text": [
      "Root Mean Squared Error: 0.7171272277139007\n",
      "R Squared: 0.48572853927137516\n"
     ]
    }
   ],
   "source": [
    "# Calculating the training error\n",
    "MSE= metrics.mean_squared_error(y_train,y_train_pred)\n",
    "from math import sqrt\n",
    "rmse = sqrt(MSE)\n",
    "print(\"Root Mean Squared Error:\",rmse)\n",
    "r_squared= metrics.r2_score(y_train, y_train_pred)\n",
    "print(\"R Squared:\",r_squared)"
   ]
  },
  {
   "cell_type": "code",
   "execution_count": 134,
   "metadata": {},
   "outputs": [
    {
     "name": "stdout",
     "output_type": "stream",
     "text": [
      "Root Mean Squared Error: 0.7497832539183402\n",
      "R Squared: 0.4784918234401825\n"
     ]
    }
   ],
   "source": [
    "# Calculating the testing error\n",
    "MSE= metrics.mean_squared_error(y_test,y_pred)\n",
    "from math import sqrt\n",
    "rmse = sqrt(MSE)\n",
    "print(\"Root Mean Squared Error:\",rmse)\n",
    "r_squared= metrics.r2_score(y_test, y_pred)\n",
    "print(\"R Squared:\",r_squared)"
   ]
  },
  {
   "cell_type": "markdown",
   "metadata": {},
   "source": [
    "Even reducing the number of variables in the model has not increased the performance of the model. As the number of records are still high, the model may not be complex enough to fit the data. If the records are reduced it might affect the quality of the data, so to increase the complexity of the model is one of the options. \n",
    "Complex algorithms like neural network can be used to improve the performance."
   ]
  },
  {
   "cell_type": "code",
   "execution_count": 135,
   "metadata": {},
   "outputs": [],
   "source": [
    "#Model Building with shallow neural network algorithm\n",
    "from sklearn.neural_network import MLPRegressor\n",
    "SNN = MLPRegressor()\n",
    "SNN.fit(X_train,y_train)\n",
    "y_train_pred = SNN.predict(X_train)\n",
    "y_pred = SNN.predict(X_test)"
   ]
  },
  {
   "cell_type": "code",
   "execution_count": 136,
   "metadata": {},
   "outputs": [
    {
     "name": "stdout",
     "output_type": "stream",
     "text": [
      "Root Mean Squared Error: 0.6230198060765029\n",
      "R Squared: 0.6118463212363967\n"
     ]
    }
   ],
   "source": [
    "# Calculating the training error\n",
    "MSE= metrics.mean_squared_error(y_train,y_train_pred)\n",
    "from math import sqrt\n",
    "rmse = sqrt(MSE)\n",
    "print(\"Root Mean Squared Error:\",rmse)\n",
    "r_squared= metrics.r2_score(y_train, y_train_pred)\n",
    "print(\"R Squared:\",r_squared)"
   ]
  },
  {
   "cell_type": "code",
   "execution_count": 137,
   "metadata": {},
   "outputs": [
    {
     "name": "stdout",
     "output_type": "stream",
     "text": [
      "Root Mean Squared Error: 0.6754142530045003\n",
      "R Squared: 0.57681516963042\n"
     ]
    }
   ],
   "source": [
    "# Calculating the testing error\n",
    "MSE= metrics.mean_squared_error(y_test,y_pred)\n",
    "from math import sqrt\n",
    "rmse = sqrt(MSE)\n",
    "print(\"Root Mean Squared Error:\",rmse)\n",
    "r_squared= metrics.r2_score(y_test, y_pred)\n",
    "print(\"R Squared:\",r_squared)"
   ]
  },
  {
   "cell_type": "code",
   "execution_count": 138,
   "metadata": {},
   "outputs": [],
   "source": [
    "#Model Building with deep neural network algorithm\n",
    "from sklearn.neural_network import MLPRegressor\n",
    "DNN = MLPRegressor(hidden_layer_sizes = [100]*5)\n",
    "DNN.fit(X_train,y_train)\n",
    "y_train_pred = DNN.predict(X_train)\n",
    "y_pred = DNN.predict(X_test)"
   ]
  },
  {
   "cell_type": "code",
   "execution_count": 139,
   "metadata": {},
   "outputs": [
    {
     "name": "stdout",
     "output_type": "stream",
     "text": [
      "Root Mean Squared Error: 0.6214762119317339\n",
      "R Squared: 0.6137673180029826\n"
     ]
    }
   ],
   "source": [
    "# Calculating the training error\n",
    "MSE= metrics.mean_squared_error(y_train,y_train_pred)\n",
    "from math import sqrt\n",
    "rmse = sqrt(MSE)\n",
    "print(\"Root Mean Squared Error:\",rmse)\n",
    "r_squared= metrics.r2_score(y_train, y_train_pred)\n",
    "print(\"R Squared:\",r_squared)"
   ]
  },
  {
   "cell_type": "code",
   "execution_count": 140,
   "metadata": {},
   "outputs": [
    {
     "name": "stdout",
     "output_type": "stream",
     "text": [
      "Root Mean Squared Error: 0.6776738093216685\n",
      "R Squared: 0.5739789563791939\n"
     ]
    }
   ],
   "source": [
    "# Calculating the testing error\n",
    "MSE= metrics.mean_squared_error(y_test,y_pred)\n",
    "from math import sqrt\n",
    "rmse = sqrt(MSE)\n",
    "print(\"Root Mean Squared Error:\",rmse)\n",
    "r_squared= metrics.r2_score(y_test, y_pred)\n",
    "print(\"R Squared:\",r_squared)"
   ]
  },
  {
   "cell_type": "markdown",
   "metadata": {},
   "source": [
    "Even with a complex algorithm the performance of the prediction has not improved much, then this may not be an issue of underfitting, it can be due to the quality of the data.\n",
    "When faced with a low performance model these analysis based on overfitting, underfitting, and complexity of the model can be done. When the quality of the data is good then using appropriate algorithm based on these analysis can help to produce a good preforming model."
   ]
  }
 ],
 "metadata": {
  "kernelspec": {
   "display_name": "Python 3",
   "language": "python",
   "name": "python3"
  },
  "language_info": {
   "codemirror_mode": {
    "name": "ipython",
    "version": 3
   },
   "file_extension": ".py",
   "mimetype": "text/x-python",
   "name": "python",
   "nbconvert_exporter": "python",
   "pygments_lexer": "ipython3",
   "version": "3.8.5"
  }
 },
 "nbformat": 4,
 "nbformat_minor": 2
}
